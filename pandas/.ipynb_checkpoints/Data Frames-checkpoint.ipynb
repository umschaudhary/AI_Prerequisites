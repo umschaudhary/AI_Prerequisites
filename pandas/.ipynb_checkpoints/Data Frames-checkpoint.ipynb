{
 "cells": [
  {
   "cell_type": "markdown",
   "metadata": {},
   "source": [
    "### Load data using pandas\n",
    "### DataFrames"
   ]
  },
  {
   "cell_type": "code",
   "execution_count": 1,
   "metadata": {},
   "outputs": [],
   "source": [
    "import pandas as pd"
   ]
  },
  {
   "cell_type": "code",
   "execution_count": 2,
   "metadata": {},
   "outputs": [],
   "source": [
    "import numpy as np"
   ]
  },
  {
   "cell_type": "code",
   "execution_count": 6,
   "metadata": {},
   "outputs": [],
   "source": [
    "X = pd.read_csv('data_2d.csv',header=None)"
   ]
  },
  {
   "cell_type": "code",
   "execution_count": 7,
   "metadata": {},
   "outputs": [
    {
     "data": {
      "text/plain": [
       "pandas.core.frame.DataFrame"
      ]
     },
     "execution_count": 7,
     "metadata": {},
     "output_type": "execute_result"
    }
   ],
   "source": [
    "type(X)"
   ]
  },
  {
   "cell_type": "code",
   "execution_count": 8,
   "metadata": {},
   "outputs": [
    {
     "name": "stdout",
     "output_type": "stream",
     "text": [
      "<class 'pandas.core.frame.DataFrame'>\n",
      "RangeIndex: 100 entries, 0 to 99\n",
      "Data columns (total 3 columns):\n",
      "0    100 non-null float64\n",
      "1    100 non-null float64\n",
      "2    100 non-null float64\n",
      "dtypes: float64(3)\n",
      "memory usage: 2.4 KB\n"
     ]
    }
   ],
   "source": [
    "X.info()"
   ]
  },
  {
   "cell_type": "code",
   "execution_count": 9,
   "metadata": {},
   "outputs": [
    {
     "data": {
      "text/html": [
       "<div>\n",
       "<style scoped>\n",
       "    .dataframe tbody tr th:only-of-type {\n",
       "        vertical-align: middle;\n",
       "    }\n",
       "\n",
       "    .dataframe tbody tr th {\n",
       "        vertical-align: top;\n",
       "    }\n",
       "\n",
       "    .dataframe thead th {\n",
       "        text-align: right;\n",
       "    }\n",
       "</style>\n",
       "<table border=\"1\" class=\"dataframe\">\n",
       "  <thead>\n",
       "    <tr style=\"text-align: right;\">\n",
       "      <th></th>\n",
       "      <th>0</th>\n",
       "      <th>1</th>\n",
       "      <th>2</th>\n",
       "    </tr>\n",
       "  </thead>\n",
       "  <tbody>\n",
       "    <tr>\n",
       "      <th>0</th>\n",
       "      <td>17.930201</td>\n",
       "      <td>94.520592</td>\n",
       "      <td>320.259530</td>\n",
       "    </tr>\n",
       "    <tr>\n",
       "      <th>1</th>\n",
       "      <td>97.144697</td>\n",
       "      <td>69.593282</td>\n",
       "      <td>404.634472</td>\n",
       "    </tr>\n",
       "    <tr>\n",
       "      <th>2</th>\n",
       "      <td>81.775901</td>\n",
       "      <td>5.737648</td>\n",
       "      <td>181.485108</td>\n",
       "    </tr>\n",
       "    <tr>\n",
       "      <th>3</th>\n",
       "      <td>55.854342</td>\n",
       "      <td>70.325902</td>\n",
       "      <td>321.773638</td>\n",
       "    </tr>\n",
       "    <tr>\n",
       "      <th>4</th>\n",
       "      <td>49.366550</td>\n",
       "      <td>75.114040</td>\n",
       "      <td>322.465486</td>\n",
       "    </tr>\n",
       "  </tbody>\n",
       "</table>\n",
       "</div>"
      ],
      "text/plain": [
       "           0          1           2\n",
       "0  17.930201  94.520592  320.259530\n",
       "1  97.144697  69.593282  404.634472\n",
       "2  81.775901   5.737648  181.485108\n",
       "3  55.854342  70.325902  321.773638\n",
       "4  49.366550  75.114040  322.465486"
      ]
     },
     "execution_count": 9,
     "metadata": {},
     "output_type": "execute_result"
    }
   ],
   "source": [
    " X.head()"
   ]
  },
  {
   "cell_type": "code",
   "execution_count": 10,
   "metadata": {},
   "outputs": [
    {
     "data": {
      "text/html": [
       "<div>\n",
       "<style scoped>\n",
       "    .dataframe tbody tr th:only-of-type {\n",
       "        vertical-align: middle;\n",
       "    }\n",
       "\n",
       "    .dataframe tbody tr th {\n",
       "        vertical-align: top;\n",
       "    }\n",
       "\n",
       "    .dataframe thead th {\n",
       "        text-align: right;\n",
       "    }\n",
       "</style>\n",
       "<table border=\"1\" class=\"dataframe\">\n",
       "  <thead>\n",
       "    <tr style=\"text-align: right;\">\n",
       "      <th></th>\n",
       "      <th>0</th>\n",
       "      <th>1</th>\n",
       "      <th>2</th>\n",
       "    </tr>\n",
       "  </thead>\n",
       "  <tbody>\n",
       "    <tr>\n",
       "      <th>0</th>\n",
       "      <td>17.930201</td>\n",
       "      <td>94.520592</td>\n",
       "      <td>320.259530</td>\n",
       "    </tr>\n",
       "    <tr>\n",
       "      <th>1</th>\n",
       "      <td>97.144697</td>\n",
       "      <td>69.593282</td>\n",
       "      <td>404.634472</td>\n",
       "    </tr>\n",
       "    <tr>\n",
       "      <th>2</th>\n",
       "      <td>81.775901</td>\n",
       "      <td>5.737648</td>\n",
       "      <td>181.485108</td>\n",
       "    </tr>\n",
       "    <tr>\n",
       "      <th>3</th>\n",
       "      <td>55.854342</td>\n",
       "      <td>70.325902</td>\n",
       "      <td>321.773638</td>\n",
       "    </tr>\n",
       "    <tr>\n",
       "      <th>4</th>\n",
       "      <td>49.366550</td>\n",
       "      <td>75.114040</td>\n",
       "      <td>322.465486</td>\n",
       "    </tr>\n",
       "    <tr>\n",
       "      <th>5</th>\n",
       "      <td>3.192702</td>\n",
       "      <td>29.256299</td>\n",
       "      <td>94.618811</td>\n",
       "    </tr>\n",
       "    <tr>\n",
       "      <th>6</th>\n",
       "      <td>49.200784</td>\n",
       "      <td>86.144439</td>\n",
       "      <td>356.348093</td>\n",
       "    </tr>\n",
       "    <tr>\n",
       "      <th>7</th>\n",
       "      <td>21.882804</td>\n",
       "      <td>46.841505</td>\n",
       "      <td>181.653769</td>\n",
       "    </tr>\n",
       "    <tr>\n",
       "      <th>8</th>\n",
       "      <td>79.509863</td>\n",
       "      <td>87.397356</td>\n",
       "      <td>423.557743</td>\n",
       "    </tr>\n",
       "    <tr>\n",
       "      <th>9</th>\n",
       "      <td>88.153887</td>\n",
       "      <td>65.205642</td>\n",
       "      <td>369.229245</td>\n",
       "    </tr>\n",
       "    <tr>\n",
       "      <th>10</th>\n",
       "      <td>60.743854</td>\n",
       "      <td>99.957634</td>\n",
       "      <td>427.605804</td>\n",
       "    </tr>\n",
       "    <tr>\n",
       "      <th>11</th>\n",
       "      <td>67.415582</td>\n",
       "      <td>50.368310</td>\n",
       "      <td>292.471822</td>\n",
       "    </tr>\n",
       "    <tr>\n",
       "      <th>12</th>\n",
       "      <td>48.318116</td>\n",
       "      <td>99.128953</td>\n",
       "      <td>395.529811</td>\n",
       "    </tr>\n",
       "    <tr>\n",
       "      <th>13</th>\n",
       "      <td>28.829972</td>\n",
       "      <td>87.184949</td>\n",
       "      <td>319.031348</td>\n",
       "    </tr>\n",
       "    <tr>\n",
       "      <th>14</th>\n",
       "      <td>43.853743</td>\n",
       "      <td>64.473639</td>\n",
       "      <td>287.428144</td>\n",
       "    </tr>\n",
       "    <tr>\n",
       "      <th>15</th>\n",
       "      <td>25.313694</td>\n",
       "      <td>83.545294</td>\n",
       "      <td>292.768909</td>\n",
       "    </tr>\n",
       "    <tr>\n",
       "      <th>16</th>\n",
       "      <td>10.807727</td>\n",
       "      <td>45.695569</td>\n",
       "      <td>159.663308</td>\n",
       "    </tr>\n",
       "    <tr>\n",
       "      <th>17</th>\n",
       "      <td>98.365746</td>\n",
       "      <td>82.697394</td>\n",
       "      <td>438.798964</td>\n",
       "    </tr>\n",
       "    <tr>\n",
       "      <th>18</th>\n",
       "      <td>29.146910</td>\n",
       "      <td>66.365107</td>\n",
       "      <td>250.986309</td>\n",
       "    </tr>\n",
       "    <tr>\n",
       "      <th>19</th>\n",
       "      <td>65.100302</td>\n",
       "      <td>33.353883</td>\n",
       "      <td>231.711508</td>\n",
       "    </tr>\n",
       "  </tbody>\n",
       "</table>\n",
       "</div>"
      ],
      "text/plain": [
       "            0          1           2\n",
       "0   17.930201  94.520592  320.259530\n",
       "1   97.144697  69.593282  404.634472\n",
       "2   81.775901   5.737648  181.485108\n",
       "3   55.854342  70.325902  321.773638\n",
       "4   49.366550  75.114040  322.465486\n",
       "5    3.192702  29.256299   94.618811\n",
       "6   49.200784  86.144439  356.348093\n",
       "7   21.882804  46.841505  181.653769\n",
       "8   79.509863  87.397356  423.557743\n",
       "9   88.153887  65.205642  369.229245\n",
       "10  60.743854  99.957634  427.605804\n",
       "11  67.415582  50.368310  292.471822\n",
       "12  48.318116  99.128953  395.529811\n",
       "13  28.829972  87.184949  319.031348\n",
       "14  43.853743  64.473639  287.428144\n",
       "15  25.313694  83.545294  292.768909\n",
       "16  10.807727  45.695569  159.663308\n",
       "17  98.365746  82.697394  438.798964\n",
       "18  29.146910  66.365107  250.986309\n",
       "19  65.100302  33.353883  231.711508"
      ]
     },
     "execution_count": 10,
     "metadata": {},
     "output_type": "execute_result"
    }
   ],
   "source": [
    "X.head(20)"
   ]
  },
  {
   "cell_type": "code",
   "execution_count": 11,
   "metadata": {},
   "outputs": [
    {
     "data": {
      "text/html": [
       "<div>\n",
       "<style scoped>\n",
       "    .dataframe tbody tr th:only-of-type {\n",
       "        vertical-align: middle;\n",
       "    }\n",
       "\n",
       "    .dataframe tbody tr th {\n",
       "        vertical-align: top;\n",
       "    }\n",
       "\n",
       "    .dataframe thead th {\n",
       "        text-align: right;\n",
       "    }\n",
       "</style>\n",
       "<table border=\"1\" class=\"dataframe\">\n",
       "  <thead>\n",
       "    <tr style=\"text-align: right;\">\n",
       "      <th></th>\n",
       "      <th>0</th>\n",
       "      <th>1</th>\n",
       "      <th>2</th>\n",
       "    </tr>\n",
       "  </thead>\n",
       "  <tbody>\n",
       "    <tr>\n",
       "      <th>0</th>\n",
       "      <td>17.930201</td>\n",
       "      <td>94.520592</td>\n",
       "      <td>320.25953</td>\n",
       "    </tr>\n",
       "  </tbody>\n",
       "</table>\n",
       "</div>"
      ],
      "text/plain": [
       "           0          1          2\n",
       "0  17.930201  94.520592  320.25953"
      ]
     },
     "execution_count": 11,
     "metadata": {},
     "output_type": "execute_result"
    }
   ],
   "source": [
    "X.head(1)"
   ]
  },
  {
   "cell_type": "code",
   "execution_count": null,
   "metadata": {},
   "outputs": [],
   "source": []
  }
 ],
 "metadata": {
  "kernelspec": {
   "display_name": "Python 3",
   "language": "python",
   "name": "python3"
  },
  "language_info": {
   "codemirror_mode": {
    "name": "ipython",
    "version": 3
   },
   "file_extension": ".py",
   "mimetype": "text/x-python",
   "name": "python",
   "nbconvert_exporter": "python",
   "pygments_lexer": "ipython3",
   "version": "3.6.5"
  }
 },
 "nbformat": 4,
 "nbformat_minor": 2
}
